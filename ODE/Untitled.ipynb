{
 "cells": [
  {
   "cell_type": "code",
   "execution_count": 6,
   "metadata": {},
   "outputs": [],
   "source": [
    "function dy=d2yxeminx(x,y)\n",
    "\tdy=zeros(2,1);\n",
    "\tdy(1)=y(2);\n",
    "\tdy(2)=x*exp(-x)*y(1);\n",
    "endfunction"
   ]
  },
  {
   "cell_type": "code",
   "execution_count": 14,
   "metadata": {},
   "outputs": [
    {
     "data": {
      "image/png": "[encoded data removed]",
      "text/plain": [
       "<IPython.core.display.Image object>"
      ]
     },
     "metadata": {},
     "output_type": "display_data"
    }
   ],
   "source": [
    "# Clear all variables\n",
    "clear all\n",
    "# Show numbers in a long, yet intuitive form\n",
    "format long g\n",
    "# Number of collocation points\n",
    "N         = 1000;\n",
    "NN        = 100000;\n",
    "# Integration interval\n",
    "xx0       = -100;\n",
    "xxf       = 100;\n",
    "# Vector\n",
    "n         = 0:N;\n",
    "# Extrema grid\n",
    "x         = -cos(pi*n'/N);\n",
    "# Transformation to [xx0, xxf]\n",
    "xtrans    = (xxf-xx0)/2*x+(xxf+xx0)/2;\n",
    "# linearly spaced grid\n",
    "xlin      = linspace(-1,1,NN+1)';\n",
    "Tlin      = cos(acos(xlin)*n);\n",
    "xtranslin = (xlin+1)*(xxf-xx0)/2;\n",
    "# Chebyshev polys of the first kind\n",
    "T         = cos(acos(x)*n);\n",
    "# Now for arrays that do not include the endpoints\n",
    "xsub      = x(2:N);\n",
    "Tsub      = T(2:N,:);\n",
    "Usub      = diag(1./sqrt(1-xsub.^2))*sin(acos(xsub)*n);\n",
    "dTsub     = Usub*diag(n);\n",
    "# Add the endpoints\n",
    "dT        = [-(n.^2).*(-1).^(n); dTsub ; (n).^2];\n",
    "# LHS without a (coefficient vector)\n",
    "dT         = 2/(xxf-xx0)*dT;\n",
    "# D1\n",
    "D1         = dT/T;\n",
    "D2         = D1^2;\n",
    "# RHS, essentially what we're trying to integrate\n",
    "F         = zeros(N+1,1);\n",
    "# H eq\n",
    "H         = D2-diag((xtrans.^2)./sqrt(1+xtrans.^2));\n",
    "# Initial condition; with definite integrals y(xx0) = 0\n",
    "H(1,:)    = [1 zeros(1,N)];\n",
    "H(N+1,:)  = [zeros(1,N) 1];\n",
    "F(1)      = 1;\n",
    "F(N+1)    = 1;\n",
    "# coefficient vector\n",
    "y         = H\\F;\n",
    "a         = T\\y;\n",
    "# y on the linear grid\n",
    "ylin      = Tlin*a;\n",
    "# y solved from ODE\n",
    "#lsode_options(\"absolute tolerance\", 1e-18);\n",
    "#yode      = lsode(\"d2yxeminx\", [1 0], xtranslin);\n",
    "#diffodech = abs(yode(:,1)-ylin);\n",
    "#errodech  = sqrt(diffodech'*diffodech/(NN+1));\n",
    "#figure(1)\n",
    "#semilogy(xtranslin,diffodech)\n",
    "figure(1)\n",
    "plot(xtranslin,ylin,'g')"
   ]
  },
  {
   "cell_type": "code",
   "execution_count": 10,
   "metadata": {},
   "outputs": [
    {
     "name": "stdout",
     "output_type": "stream",
     "text": [
      "errodech =\n",
      "\n",
      "  8.989944685329251e-08  0.0003706287338294979\n",
      "  0.0003706287338294979  1.749082551288987\n",
      "\n"
     ]
    }
   ],
   "source": [
    "errodech"
   ]
  },
  {
   "cell_type": "code",
   "execution_count": null,
   "metadata": {},
   "outputs": [],
   "source": []
  }
 ],
 "metadata": {
  "kernelspec": {
   "display_name": "Octave",
   "language": "octave",
   "name": "octave"
  },
  "language_info": {
   "file_extension": ".m",
   "help_links": [
    {
     "text": "GNU Octave",
     "url": "https://www.gnu.org/software/octave/support.html"
    },
    {
     "text": "Octave Kernel",
     "url": "https://github.com/Calysto/octave_kernel"
    },
    {
     "text": "MetaKernel Magics",
     "url": "https://metakernel.readthedocs.io/en/latest/source/README.html"
    }
   ],
   "mimetype": "text/x-octave",
   "name": "octave",
   "version": "5.1.0"
  }
 },
 "nbformat": 4,
 "nbformat_minor": 4
}
