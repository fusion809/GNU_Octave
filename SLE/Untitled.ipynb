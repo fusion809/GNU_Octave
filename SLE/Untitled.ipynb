{
 "cells": [
  {
   "cell_type": "code",
   "execution_count": 34,
   "metadata": {},
   "outputs": [
    {
     "name": "stdout",
     "output_type": "stream",
     "text": [
      "errrms =    1.691126642134232e-11\n"
     ]
    },
    {
     "data": {
      "image/png": "[encoded data removed]",
      "text/plain": [
       "<IPython.core.display.Image object>"
      ]
     },
     "metadata": {},
     "output_type": "display_data"
    },
    {
     "data": {
      "image/png": "[encoded data removed]",
      "text/plain": [
       "<IPython.core.display.Image object>"
      ]
     },
     "metadata": {},
     "output_type": "display_data"
    }
   ],
   "source": [
    "# Standard values are for transformation x=(y-L)/(y+L), y in 0, inf\n",
    "# *lin are for x=2/L*y-1 (linear transformation)\n",
    "clear all\n",
    "format long e;\n",
    "N=1000;\n",
    "perc=0.21;\n",
    "Nfrag=round(perc*N);\n",
    "n=0:N;\n",
    "L=22;\n",
    "t=pi+n'*pi/N;\n",
    "x=cos(t);\n",
    "y=L*(cot(t/2)).^2;\n",
    "ysub=y(2:N);\n",
    "ylintrans = L/2*(x+1);\n",
    "# Chebyshev polys of the first kind\n",
    "T         = cos(t*n);\n",
    "# Now for arrays that do not include the endpoints\n",
    "xsub      = x(2:N);\n",
    "Tsub      = T(2:N,:);\n",
    "Usub      = diag(1./sqrt(1-xsub.^2))*sin(acos(xsub)*n);\n",
    "dTsub     = Usub*diag(n);\n",
    "dT        = [-(n.^2).*(-1).^(n); dTsub ; (n).^2];\n",
    "dTL       = diag(2*L./((y+L).^2))*dT;\n",
    "dTlin     = 2/L*dT;\n",
    "D1        = dTL/T;\n",
    "D1lin     = dTlin/T;\n",
    "D2        = D1^2;\n",
    "D2lin     = D1lin^2;\n",
    "H         = -D2+diag((y.^2.));\n",
    "H         = H(2:N,2:N);\n",
    "[Y, Lam]  = eig(H);\n",
    "Lam       = diag(Lam);\n",
    "[Lam, IX] = sort(Lam, 'ascend');\n",
    "Y         = Y(:,IX);\n",
    "yexact    = sqrt(ysub/(2*pi)).*besselk(1/4,1/4*ysub.^2);\n",
    "eigex=4*(n'+1)-1; err=Lam(1:Nfrag)-eigex(1:Nfrag); errrms=sqrt(err'*err/(Nfrag))\n",
    "figure(1)\n",
    "plot(ysub(1:3*N/5), Y(1:3*N/5,1));\n",
    "figure(2)\n",
    "plot(ysub(1:3*N/5), Y(1:3*N/5,30));"
   ]
  },
  {
   "cell_type": "code",
   "execution_count": 14,
   "metadata": {},
   "outputs": [
    {
     "name": "stdout",
     "output_type": "stream",
     "text": [
      "ans =    1.099999999998837e+01\n"
     ]
    }
   ],
   "source": [
    "Lam(3)"
   ]
  },
  {
   "cell_type": "code",
   "execution_count": 16,
   "metadata": {},
   "outputs": [
    {
     "name": "stdout",
     "output_type": "stream",
     "text": [
      "ans =    1.100000000000614e+01\n"
     ]
    }
   ],
   "source": [
    "Lam(3) #L=15"
   ]
  },
  {
   "cell_type": "code",
   "execution_count": 17,
   "metadata": {},
   "outputs": [
    {
     "name": "stdout",
     "output_type": "stream",
     "text": [
      "ans =    3.900000000001418e+01\n"
     ]
    }
   ],
   "source": [
    "Lam(10)"
   ]
  },
  {
   "cell_type": "code",
   "execution_count": 18,
   "metadata": {},
   "outputs": [
    {
     "name": "stdout",
     "output_type": "stream",
     "text": [
      "ans =    3.000000000004093e+00\n"
     ]
    }
   ],
   "source": [
    "Lam(1)"
   ]
  },
  {
   "cell_type": "code",
   "execution_count": 19,
   "metadata": {},
   "outputs": [],
   "source": [
    "eigex=4*(n'+1)-1; err=Lam(1:Nfrag)-eigex(1:Nfrag); errrms=sqrt(err'*err/(Nfrag));"
   ]
  },
  {
   "cell_type": "code",
   "execution_count": 20,
   "metadata": {},
   "outputs": [
    {
     "name": "stdout",
     "output_type": "stream",
     "text": [
      "errrms =    3.113279365871696e+00\n"
     ]
    }
   ],
   "source": [
    "errrms"
   ]
  },
  {
   "cell_type": "code",
   "execution_count": 21,
   "metadata": {},
   "outputs": [
    {
     "name": "stdout",
     "output_type": "stream",
     "text": [
      "err =\n",
      "\n",
      "   4.092726157978177e-12\n",
      "   1.633360113828530e-12\n",
      "   6.139089236967266e-12\n",
      "   1.383781977892795e-11\n",
      "   1.322675302617426e-11\n",
      "   1.606181854185706e-11\n",
      "   1.472599819862808e-11\n",
      "   1.272226768378459e-11\n",
      "   1.409716787748039e-11\n",
      "   1.417532757841400e-11\n",
      "   1.798383664208814e-11\n",
      "   1.721645048746723e-11\n",
      "   1.656275117056794e-11\n",
      "   1.576694330651662e-11\n",
      "   2.084021843984374e-11\n",
      "   1.898570189950988e-11\n",
      "   2.282263267261442e-11\n",
      "   2.485478489688830e-11\n",
      "   2.813749233609997e-11\n",
      "   2.634692464198451e-11\n",
      "   2.836486601154320e-11\n",
      "   2.944489096989855e-11\n",
      "   2.894751105486648e-11\n",
      "   3.119282609986840e-11\n",
      "   2.923172814917052e-11\n",
      "   2.913225216616411e-11\n",
      "   2.886224592657527e-11\n",
      "   3.051070507353870e-11\n",
      "   3.385025593161117e-11\n",
      "   3.350919541844632e-11\n",
      "   3.414868388063041e-11\n",
      "   3.285549610154703e-11\n",
      "   3.404920789762400e-11\n",
      "   3.311129148642067e-11\n",
      "   3.379341251275036e-11\n",
      "   3.393552105990238e-11\n",
      "   3.140598892059643e-11\n",
      "   3.558398020686582e-11\n",
      "   3.419131644477602e-11\n",
      "   3.726086106325965e-11\n",
      "   3.620925781433471e-11\n",
      "   3.799982550845016e-11\n",
      "   3.856825969705824e-11\n",
      "   3.836930773104541e-11\n",
      "   3.927880243281834e-11\n",
      "   3.825562089332379e-11\n",
      "   4.123990038351621e-11\n",
      "   4.376943252282217e-11\n",
      "   4.385469765111338e-11\n",
      "   4.442313183972146e-11\n",
      "   4.101252670807298e-11\n",
      "   4.490630090003833e-11\n",
      "   4.362732397567015e-11\n",
      "   4.337152859079652e-11\n",
      "   4.342837200965732e-11\n",
      "   4.544631337921601e-11\n",
      "   4.561684363579843e-11\n",
      "   4.828848432225641e-11\n",
      "   4.621369953383692e-11\n",
      "   4.777689355250914e-11\n",
      "   4.951061782776378e-11\n",
      "   4.740741132991388e-11\n",
      "   5.005063030694146e-11\n",
      "   5.132960723130964e-11\n",
      "   4.746425474877469e-11\n",
      "   4.877165338257328e-11\n",
      "   4.934008757118136e-11\n",
      "   4.860112312599085e-11\n",
      "   5.081801646156237e-11\n",
      "   5.172751116333529e-11\n",
      "   5.292122295941226e-11\n",
      "   5.104539013700560e-11\n",
      "   5.184119800105691e-11\n",
      "   5.201172825763933e-11\n",
      "   5.564970706473105e-11\n",
      "   5.348965714802034e-11\n",
      "   5.530864655156620e-11\n",
      "   5.394440449890681e-11\n",
      "   5.593392415903509e-11\n",
      "   5.621814125333913e-11\n",
      "   5.496758603840135e-11\n",
      "   5.599076757789589e-11\n",
      "   5.570655048359185e-11\n",
      "   5.428546501207165e-11\n",
      "   5.513811629498377e-11\n",
      "   5.553602022700943e-11\n",
      "   5.388756108004600e-11\n",
      "   5.650235834764317e-11\n",
      "   5.633182809106074e-11\n",
      "   5.661604518536478e-11\n",
      "   5.888978193979710e-11\n",
      "   5.741185304941610e-11\n",
      "   5.917399903410114e-11\n",
      "   6.036771083017811e-11\n",
      "   6.116351869422942e-11\n",
      "   6.053824108676054e-11\n",
      "   6.036771083017811e-11\n",
      "   6.070877134334296e-11\n",
      "   6.309619493549690e-11\n",
      "   6.389200279954821e-11\n",
      "   6.627942639170215e-11\n",
      "   6.508571459562518e-11\n",
      "   6.190248313941993e-11\n",
      "   6.315303835435770e-11\n",
      "   6.025402399245650e-11\n",
      "   5.877609510207549e-11\n",
      "   6.224354365258478e-11\n",
      "   6.508571459562518e-11\n",
      "   6.838263288955204e-11\n",
      "   6.610889613511972e-11\n",
      "   6.411937647499144e-11\n",
      "   6.923528417246416e-11\n",
      "   6.480149750132114e-11\n",
      "   6.480149750132114e-11\n",
      "   6.696154741803184e-11\n",
      "   6.707523425575346e-11\n",
      "   6.912159733474255e-11\n",
      "   6.889422365929931e-11\n",
      "   6.889422365929931e-11\n",
      "   7.338485374930315e-11\n",
      "   7.480593922082335e-11\n",
      "   7.378275768132880e-11\n",
      "   6.912159733474255e-11\n",
      "   6.838263288955204e-11\n",
      "   7.190692485892214e-11\n",
      "   7.258904588525183e-11\n",
      "   7.304379323613830e-11\n",
      "   7.315748007385992e-11\n",
      "   7.696598913753405e-11\n",
      "   7.071321306284517e-11\n",
      "   7.185008144006133e-11\n",
      "   7.150902092689648e-11\n",
      "   7.469225238310173e-11\n",
      "   7.480593922082335e-11\n",
      "   7.446487870765850e-11\n",
      "   6.900791049702093e-11\n",
      "   6.798472895752639e-11\n",
      "   7.798917067702860e-11\n",
      "   7.469225238310173e-11\n",
      "   7.446487870765850e-11\n",
      "   7.980816008057445e-11\n",
      "   8.003553375601768e-11\n",
      "   7.480593922082335e-11\n",
      "   7.423750503221527e-11\n",
      "   7.582912076031789e-11\n",
      "   7.480593922082335e-11\n",
      "   7.594280759803951e-11\n",
      "   8.083134162006900e-11\n",
      "   7.810285751475021e-11\n",
      "   7.889866537880152e-11\n",
      "   7.855760486563668e-11\n",
      "   7.946709956740960e-11\n",
      "   8.174083632184193e-11\n",
      "   7.844391802791506e-11\n",
      "   7.798917067702860e-11\n",
      "   7.787548383930698e-11\n",
      "   8.117240213323385e-11\n",
      "   8.071765478234738e-11\n",
      "   7.742073648842052e-11\n",
      "   8.230927051045001e-11\n",
      "   8.469669410260394e-11\n",
      "   8.265033102361485e-11\n",
      "   8.367351256310940e-11\n",
      "   8.287770469905809e-11\n",
      "   8.276401786133647e-11\n",
      "   8.265033102361485e-11\n",
      "   8.219558367272839e-11\n",
      "   8.253664418589324e-11\n",
      "   8.037659426918253e-11\n",
      "   8.844835974741727e-11\n",
      "   8.299139153677970e-11\n",
      "   8.299139153677970e-11\n",
      "   8.037659426918253e-11\n",
      "   8.287770469905809e-11\n",
      "   7.912603905424476e-11\n",
      "   8.117240213323385e-11\n",
      "   8.674305718159303e-11\n",
      "   8.753886504564434e-11\n",
      "   8.583356247982010e-11\n",
      "   8.071765478234738e-11\n",
      "   8.469669410260394e-11\n",
      "   9.038103598868474e-11\n",
      "   8.708411769475788e-11\n",
      "   8.412825991399586e-11\n",
      "   8.526512829121202e-11\n",
      "   8.628830983070657e-11\n",
      "   9.367795428261161e-11\n",
      "   9.038103598868474e-11\n",
      "   8.969891496235505e-11\n",
      "   9.208633855450898e-11\n",
      "   9.072209650184959e-11\n",
      "   8.560618880437687e-11\n",
      "   9.015366231324151e-11\n",
      "   8.981260180007666e-11\n",
      "   8.719780453247949e-11\n",
      "   8.947154128691182e-11\n",
      "   8.981260180007666e-11\n",
      "   9.890754881780595e-11\n",
      "   8.913048077374697e-11\n",
      "   9.083578333957121e-11\n",
      "   9.072209650184959e-11\n",
      "   9.038103598868474e-11\n",
      "   1.006128513836302e-10\n",
      "   9.106315701501444e-11\n",
      "   8.753886504564434e-11\n",
      "   8.571987564209849e-11\n",
      "   9.333689376944676e-11\n",
      "   9.242739906767383e-11\n",
      "   8.230927051045001e-11\n",
      "   8.515144145349041e-11\n",
      "   1.169837560155429e-10\n",
      "   1.127773430198431e-10\n",
      "   5.445599526865408e-11\n",
      "   1.946318661794066e-10\n",
      "   4.879439075011760e-10\n",
      "   1.473381416872144e-09\n",
      "   3.420836947043426e-10\n",
      "   1.250748482561903e-08\n",
      "   4.380808604764752e-09\n",
      "   1.024131961457897e-07\n",
      "  -8.132019502227195e-09\n",
      "   7.526274430347257e-07\n",
      "  -1.063162926584482e-07\n",
      "   4.895441520602617e-06\n",
      "  -9.825103006733116e-07\n",
      "   2.846123049948801e-05\n",
      "  -4.843207875637745e-06\n",
      "   1.467228752289884e-04\n",
      "  -1.506245803284401e-05\n",
      "   6.710119500894507e-04\n",
      "   6.907760962349130e-06\n",
      "   2.704881985550855e-03\n",
      "   4.284213815708426e-04\n",
      "   9.563483644569715e-03\n",
      "   3.267674493486084e-03\n",
      "   2.943436453074355e-02\n",
      "   1.636404672933622e-02\n",
      "   7.846747890414463e-02\n",
      "   6.246179003164798e-02\n",
      "   1.813822473710616e-01\n",
      "   1.904620161114963e-01\n",
      "   3.686240872806366e-01\n",
      "   4.769731670165811e-01\n",
      "   6.747462691935198e-01\n",
      "   1.005867435921914e+00\n",
      "   1.139315189748913e+00\n",
      "   1.836372958651737e+00\n",
      "   1.801469989307066e+00\n",
      "   2.987918795067912e+00\n",
      "   2.691558542232656e+00\n",
      "   4.449283369268301e+00\n",
      "   3.829314433841887e+00\n",
      "   6.192709752176825e+00\n",
      "   5.230441706399574e+00\n",
      "   8.180380044483627e+00\n",
      "   6.914433869431377e+00\n",
      "   1.036531937626683e+01\n",
      "   8.910879932654098e+00\n",
      "   1.269853792506728e+01\n",
      "   1.125388372305633e+01\n",
      "   1.515062610995574e+01\n",
      "   1.396133001784347e+01\n",
      "   1.772508461469670e+01\n",
      "   1.702053357059049e+01\n",
      "   2.044373482139235e+01\n",
      "   2.040302761294288e+01\n",
      "\n"
     ]
    }
   ],
   "source": [
    "err"
   ]
  },
  {
   "cell_type": "code",
   "execution_count": null,
   "metadata": {},
   "outputs": [],
   "source": []
  }
 ],
 "metadata": {
  "kernelspec": {
   "display_name": "Octave",
   "language": "octave",
   "name": "octave"
  },
  "language_info": {
   "file_extension": ".m",
   "help_links": [
    {
     "text": "GNU Octave",
     "url": "https://www.gnu.org/software/octave/support.html"
    },
    {
     "text": "Octave Kernel",
     "url": "https://github.com/Calysto/octave_kernel"
    },
    {
     "text": "MetaKernel Magics",
     "url": "https://metakernel.readthedocs.io/en/latest/source/README.html"
    }
   ],
   "mimetype": "text/x-octave",
   "name": "octave",
   "version": "5.1.0"
  }
 },
 "nbformat": 4,
 "nbformat_minor": 4
}
